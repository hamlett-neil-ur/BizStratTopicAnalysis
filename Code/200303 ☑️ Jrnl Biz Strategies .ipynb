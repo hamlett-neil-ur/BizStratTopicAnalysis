{
 "cells": [
  {
   "cell_type": "markdown",
   "metadata": {},
   "source": [
    "## Purpose.\n",
    "\n",
    "Here we collect abstracts and titles from [*Journal of Business Strategies*](https://www.questia.com/library/p578/journal-of-business-strategies).  This information is to be used as part of an attempt to apply text classification to charting the progression of business strategy.\n",
    "\n",
    "## Approach.\n",
    "\n",
    "Titles and abstracts are available without paywall login. But we have to do this in ***three stages***.  \n",
    "\n",
    "⓵ **Get the URL for the each volume**. We start with the journal's hope page.  Our essential information is embedded in a frame depicted below on the right-hand side of the page. \n",
    "\n",
    "⓶ **Get a list of issue URLs**.  Each volume page contains thumbnail images of individual issues. These include URLs to the individual isses. \n",
    "\n",
    "⓷ **Collect lists of titles**.  Follow each issue's URL to its issue table of contents. The tables of contents contain titles, as well as URLs to pages for individual articles.\n",
    "\n",
    "⓸ **Collect abstracts**.  Abstracts are accessible from individual articles. We have to get the abstracts from these individual-article pages.\n",
    "\n",
    "\n",
    "\n",
    "\n"
   ]
  },
  {
   "cell_type": "code",
   "execution_count": 1,
   "metadata": {},
   "outputs": [],
   "source": [
    "# Import libaries\n",
    "import requests as req\n",
    "from bs4 import BeautifulSoup\n",
    "import pandas as pd\n",
    "import numpy as np\n",
    "import time\n",
    "import itertools as it\n",
    "import json\n",
    "import io\n",
    "from copy import deepcopy\n",
    "import datetime\n",
    "from selenium import webdriver\n",
    "from selenium.webdriver.common.by import By\n",
    "# driver = webdriver.Chrome()\n",
    "# driver.get(\"https://www.nytimes.com\")"
   ]
  },
  {
   "cell_type": "code",
   "execution_count": 2,
   "metadata": {},
   "outputs": [],
   "source": [
    "# We use lots of list-comprehension, which drives requests.get operations.\n",
    "# We need to \"throttle\" these, so as to avoid the appearance of a DDoS\n",
    "# attack.  We accomplish this by a get_sleep function.  This function \n",
    "# executes a req.get operation, returning the result, with a one-second\n",
    "# delay.\n",
    "def sleep_get(url, headers):\n",
    "    time.sleep(np.random.uniform(low = 1,\n",
    "                                 high = 2.5))\n",
    "    return(req.get(url,\n",
    "                   headers = headers))\n",
    "#\n",
    "# Partition a list into a specified number of bins.  Our inputs\n",
    "# are:\n",
    "# ⧐ parted_list is the list to be partitioned;\n",
    "# ⧐ partition_counts specifies the number of bins into which\n",
    "#   parted_list is divided.\n",
    "# We produce an enumerated dictionary of the list partitions.\n",
    "def partition_list(parted_list, partition_counts):\n",
    "    parted_list = np.sort(np.array(parted_list))\n",
    "    partition_len = int(np.ceil(len(parted_list)/partition_counts))\n",
    "    partitions = [np.array(object = range(partition_len)) + part * partition_len\n",
    "                     for part in range(partition_counts)]\n",
    "    partitions[-1] = np.arange(start = partitions[-1][0],\n",
    "                               stop = parted_list.shape[0])\n",
    "    return dict(enumerate([list(parted_list[part])\n",
    "                             for part in partitions]))\n",
    "\n",
    "\n",
    "\n"
   ]
  },
  {
   "cell_type": "code",
   "execution_count": null,
   "metadata": {},
   "outputs": [],
   "source": [
    "https://www.questia.com/library/p578/journal-of-business-strategies"
   ]
  },
  {
   "cell_type": "code",
   "execution_count": 3,
   "metadata": {},
   "outputs": [],
   "source": [
    "jbs_url = 'https://www.questia.com/'\n",
    "driver = webdriver.Chrome()\n",
    "driver.get(jbs_url + '/library/p578/journal-of-business-strategies')\n",
    "volIssues = {issue.text : {'href' : issue.get_attribute('href')}\n",
    "            for issue in driver.find_elements_by_tag_name('a')\n",
    "            if issue.text[:3] == 'Vol'}"
   ]
  },
  {
   "cell_type": "code",
   "execution_count": 4,
   "metadata": {},
   "outputs": [],
   "source": [
    "issue = np.random.choice(a = list(volIssues.keys()),\n",
    "                         size = 1).item(0)\n"
   ]
  },
  {
   "cell_type": "code",
   "execution_count": null,
   "metadata": {},
   "outputs": [],
   "source": []
  },
  {
   "cell_type": "code",
   "execution_count": 5,
   "metadata": {},
   "outputs": [
    {
     "name": "stdout",
     "output_type": "stream",
     "text": [
      "Issue : Vol. 36, No. 2, Fall\n",
      "Vol. 36, No. 2, Fall, 4 articles, success at 20-03-03, 233150Z\n",
      "Issue : Vol. 36, No. 1, Spring\n",
      "Vol. 36, No. 1, Spring, 4 articles, success at 20-03-03, 233153Z\n",
      "Issue : Vol. 35, No. 2, Fall\n",
      "Vol. 35, No. 2, Fall, 4 articles, success at 20-03-03, 233156Z\n",
      "Issue : Vol. 35, No. 1, Spring\n",
      "Vol. 35, No. 1, Spring, 4 articles, success at 20-03-03, 233200Z\n",
      "Issue : Vol. 34, No. 2, Fall\n",
      "Vol. 34, No. 2, Fall, 4 articles, success at 20-03-03, 233203Z\n",
      "Issue : Vol. 34, No. 1, Spring\n",
      "Vol. 34, No. 1, Spring, 3 articles, success at 20-03-03, 233206Z\n",
      "Issue : Vol. 33, No. 2, Fall\n",
      "Vol. 33, No. 2, Fall, 4 articles, success at 20-03-03, 233209Z\n",
      "Issue : Vol. 33, No. 1, Spring\n",
      "Vol. 33, No. 1, Spring, 4 articles, success at 20-03-03, 233212Z\n",
      "Issue : Vol. 32, No. 2, Fall\n",
      "Vol. 32, No. 2, Fall, 4 articles, success at 20-03-03, 233216Z\n",
      "Issue : Vol. 32, No. 1, Spring\n",
      "Vol. 32, No. 1, Spring, 4 articles, success at 20-03-03, 233220Z\n",
      "Issue : Vol. 31, No. 2, Fall\n",
      "Vol. 31, No. 2, Fall, 4 articles, success at 20-03-03, 233222Z\n",
      "Issue : Vol. 31, No. 1, Spring\n",
      "Vol. 31, No. 1, Spring, 4 articles, success at 20-03-03, 233226Z\n",
      "Issue : Vol. 30, No. 2, Fall\n",
      "Vol. 30, No. 2, Fall, 4 articles, success at 20-03-03, 233229Z\n",
      "Issue : Vol. 30, No. 1, Spring\n",
      "Vol. 30, No. 1, Spring, 4 articles, success at 20-03-03, 233233Z\n",
      "Issue : Vol. 29, No. 2, Fall\n",
      "Vol. 29, No. 2, Fall, 4 articles, success at 20-03-03, 233236Z\n",
      "Issue : Vol. 29, No. 1, Spring\n",
      "Vol. 29, No. 1, Spring, 0 articles, success at 20-03-03, 233251Z\n",
      "Issue : Vol. 28, No. 2, Fall\n",
      "Vol. 28, No. 2, Fall, 4 articles, success at 20-03-03, 233254Z\n",
      "Issue : Vol. 28, No. 1, Spring\n",
      "Vol. 28, No. 1, Spring, 4 articles, success at 20-03-03, 233257Z\n",
      "Issue : Vol. 27, No. 2, Fall\n",
      "Vol. 27, No. 2, Fall, 4 articles, success at 20-03-03, 233301Z\n",
      "Issue : Vol. 27, No. 1, Spring\n",
      "Vol. 27, No. 1, Spring, 6 articles, success at 20-03-03, 233304Z\n",
      "Issue : Vol. 26, No. 2, Fall\n",
      "Vol. 26, No. 2, Fall, 5 articles, success at 20-03-03, 233308Z\n",
      "Issue : Vol. 26, No. 1, Spring\n",
      "Vol. 26, No. 1, Spring, 7 articles, success at 20-03-03, 233313Z\n",
      "Issue : Vol. 25, No. 2, Fall\n",
      "Vol. 25, No. 2, Fall, 6 articles, success at 20-03-03, 233316Z\n",
      "Issue : Vol. 25, No. 1, Spring\n",
      "Vol. 25, No. 1, Spring, 4 articles, success at 20-03-03, 233320Z\n",
      "Issue : Vol. 24, No. 2, Fall\n",
      "Vol. 24, No. 2, Fall, 4 articles, success at 20-03-03, 233323Z\n",
      "Issue : Vol. 24, No. 1, Spring\n",
      "Vol. 24, No. 1, Spring, 5 articles, success at 20-03-03, 233333Z\n",
      "Issue : Vol. 23, No. 2, Fall\n",
      "Vol. 23, No. 2, Fall, 4 articles, success at 20-03-03, 233337Z\n",
      "Issue : Vol. 23, No. 1, Spring\n",
      "Vol. 23, No. 1, Spring, 5 articles, success at 20-03-03, 233339Z\n",
      "Issue : Vol. 22, No. 2, Fall\n",
      "Vol. 22, No. 2, Fall, 4 articles, success at 20-03-03, 233342Z\n",
      "Issue : Vol. 22, No. 1, Spring\n",
      "Vol. 22, No. 1, Spring, 4 articles, success at 20-03-03, 233346Z\n",
      "Issue : Vol. 21, No. 2, Fall\n",
      "Vol. 21, No. 2, Fall, 4 articles, success at 20-03-03, 233350Z\n",
      "Issue : Vol. 21, No. 1, Spring\n",
      "Vol. 21, No. 1, Spring, 4 articles, success at 20-03-03, 233353Z\n",
      "Issue : Vol. 20, No. 2, Fall\n",
      "Vol. 20, No. 2, Fall, 4 articles, success at 20-03-03, 233356Z\n",
      "Issue : Vol. 20, No. 1, Spring\n",
      "Vol. 20, No. 1, Spring, 5 articles, success at 20-03-03, 233359Z\n",
      "Issue : Vol. 19, No. 2, Fall\n",
      "Vol. 19, No. 2, Fall, 5 articles, success at 20-03-03, 233402Z\n",
      "Issue : Vol. 19, No. 1, Spring\n",
      "Vol. 19, No. 1, Spring, 6 articles, success at 20-03-03, 233406Z\n",
      "Issue : Vol. 18, No. 2, Fall\n",
      "Vol. 18, No. 2, Fall, 6 articles, success at 20-03-03, 233409Z\n",
      "Issue : Vol. 17, No. 2, Fall\n",
      "Vol. 17, No. 2, Fall, 3 articles, success at 20-03-03, 233413Z\n",
      "Issue : Vol. 17, No. 1, Spring\n",
      "Vol. 17, No. 1, Spring, 6 articles, success at 20-03-03, 233417Z\n"
     ]
    }
   ],
   "source": [
    "for issue in volIssues.keys():\n",
    "    print(f'Issue : {issue}')\n",
    "    time.sleep(np.random.uniform(low = 1,\n",
    "                                 high = 3))\n",
    "    driver.get(volIssues.get(issue).get('href'))\n",
    "    issueToc = dict(enumerate([{'href' : article.get_attribute('href'),\n",
    "                                'title' : article.text}\n",
    "                                 for article in driver.find_elements_by_class_name('li-title')]))\n",
    "    volIssues.get(issue).update({'issueToc' : issueToc})\n",
    "    print('{}, {} articles, success at {}'.format(issue, \n",
    "                                              str(len(issueToc)),\n",
    "                                              datetime.datetime.utcnow().strftime('%y-%m-%d, %H%M%SZ')))"
   ]
  },
  {
   "cell_type": "code",
   "execution_count": 10,
   "metadata": {},
   "outputs": [
    {
     "data": {
      "text/plain": [
       "{0: {'href': 'https://www.questia.com/library/journal/1G1-613341333/a-model-relating-ceo-social-intelligence-and-strategic',\n",
       "  'title': 'A Model Relating CEO Social Intelligence and Strategic Engagement: A Study in Small Business Organizations'},\n",
       " 1: {'href': 'https://www.questia.com/library/journal/1G1-613341332/board-gender-diversity-social-performance-and-ceo',\n",
       "  'title': 'Board Gender Diversity, Social Performance, and CEO Compensation'},\n",
       " 2: {'href': 'https://www.questia.com/library/journal/1G1-613341334/musky-tweets-information-transfer-in-the-age-of-unbridled',\n",
       "  'title': 'Musky Tweets: Information Transfer in the Age of Unbridled Social Media'},\n",
       " 3: {'href': 'https://www.questia.com/library/journal/1G1-613341335/reconfiguring-dependencies-through-acquisitions-a',\n",
       "  'title': 'Reconfiguring Dependencies through Acquisitions: A Resource Dependency Perspective'}}"
      ]
     },
     "execution_count": 10,
     "metadata": {},
     "output_type": "execute_result"
    }
   ],
   "source": [
    "volIssues.get(issue).get('issueToc')"
   ]
  },
  {
   "cell_type": "code",
   "execution_count": 40,
   "metadata": {},
   "outputs": [
    {
     "name": "stdout",
     "output_type": "stream",
     "text": [
      "Vol. 36, No. 2, Fall, 4 articles, success at 20-03-04, 003645Z\n",
      "Vol. 36, No. 1, Spring, 4 articles, success at 20-03-04, 003700Z\n",
      "Vol. 35, No. 2, Fall, 4 articles, success at 20-03-04, 003712Z\n",
      "Vol. 35, No. 1, Spring, 4 articles, success at 20-03-04, 003724Z\n",
      "Vol. 34, No. 2, Fall, 4 articles, success at 20-03-04, 003738Z\n",
      "Vol. 34, No. 1, Spring, 3 articles, success at 20-03-04, 003750Z\n",
      "Vol. 33, No. 2, Fall, 4 articles, success at 20-03-04, 003803Z\n",
      "Vol. 33, No. 1, Spring, 4 articles, success at 20-03-04, 003819Z\n",
      "Vol. 32, No. 2, Fall, 4 articles, success at 20-03-04, 003832Z\n",
      "Vol. 32, No. 1, Spring, 4 articles, success at 20-03-04, 003845Z\n",
      "Vol. 31, No. 2, Fall, 4 articles, success at 20-03-04, 003900Z\n",
      "Vol. 31, No. 1, Spring, 4 articles, success at 20-03-04, 003913Z\n",
      "Vol. 30, No. 2, Fall, 4 articles, success at 20-03-04, 003924Z\n",
      "Vol. 30, No. 1, Spring, 4 articles, success at 20-03-04, 003936Z\n",
      "Vol. 29, No. 2, Fall, 4 articles, success at 20-03-04, 003951Z\n",
      "Vol. 29, No. 1, Spring, 0 articles, success at 20-03-04, 003951Z\n",
      "Vol. 28, No. 2, Fall, 4 articles, success at 20-03-04, 004005Z\n",
      "Vol. 28, No. 1, Spring, 4 articles, success at 20-03-04, 004017Z\n",
      "Vol. 27, No. 2, Fall, 4 articles, success at 20-03-04, 004031Z\n",
      "Vol. 27, No. 1, Spring, 6 articles, success at 20-03-04, 004051Z\n",
      "Vol. 26, No. 2, Fall, 5 articles, success at 20-03-04, 004109Z\n",
      "Vol. 26, No. 1, Spring, 7 articles, success at 20-03-04, 004136Z\n",
      "Vol. 25, No. 2, Fall, 6 articles, success at 20-03-04, 004155Z\n",
      "Vol. 25, No. 1, Spring, 4 articles, success at 20-03-04, 004209Z\n",
      "Vol. 24, No. 2, Fall, 4 articles, success at 20-03-04, 004224Z\n",
      "Vol. 24, No. 1, Spring, 5 articles, success at 20-03-04, 004242Z\n",
      "Vol. 23, No. 2, Fall, 4 articles, success at 20-03-04, 004254Z\n",
      "Vol. 23, No. 1, Spring, 5 articles, success at 20-03-04, 004312Z\n",
      "Vol. 22, No. 2, Fall, 4 articles, success at 20-03-04, 004326Z\n",
      "Vol. 22, No. 1, Spring, 4 articles, success at 20-03-04, 004339Z\n",
      "Vol. 21, No. 2, Fall, 4 articles, success at 20-03-04, 004353Z\n",
      "Vol. 21, No. 1, Spring, 4 articles, success at 20-03-04, 004409Z\n",
      "Vol. 20, No. 2, Fall, 4 articles, success at 20-03-04, 004424Z\n",
      "Vol. 20, No. 1, Spring, 5 articles, success at 20-03-04, 004442Z\n",
      "Vol. 19, No. 2, Fall, 5 articles, success at 20-03-04, 004458Z\n",
      "Vol. 19, No. 1, Spring, 6 articles, success at 20-03-04, 004519Z\n",
      "Vol. 18, No. 2, Fall, 6 articles, success at 20-03-04, 004542Z\n",
      "Vol. 17, No. 2, Fall, 3 articles, success at 20-03-04, 004553Z\n",
      "Vol. 17, No. 1, Spring, 6 articles, success at 20-03-04, 004614Z\n"
     ]
    }
   ],
   "source": [
    "driver = webdriver.Chrome()\n",
    "\n",
    "for issue in volIssues.keys():\n",
    "    issueToc = volIssues.get(issue).get('issueToc')\n",
    "    for article in issueToc.keys():\n",
    "        time.sleep(np.random.uniform(low = 1,\n",
    "                                     high = 2.5))\n",
    "        driver.get(volIssues.get(issue).get('issueToc').get(article).get('href'))\n",
    "        try: \n",
    "            issueToc.get(article).update({'abstract' : driver.find_element_by_id('teaserShowMore')\\\n",
    "                                                             .text\\\n",
    "                                                             .replace('\\n', ' ')\\\n",
    "                                                              .replace('*', '')\\\n",
    "                                                             .lower(),\n",
    "                                          'collected' : datetime.datetime.utcnow().strftime('%y-%m-%d, %H%M%SZ')})\n",
    "        except:\n",
    "            issueToc.get(article).update({'abstract' : str()})\n",
    "        try:\n",
    "            issueToc.get(article).update({'keyWords' : [detailItem.text\\\n",
    "                                                              .lower()\\\n",
    "                                                              .split('\\n')[1:]\n",
    "                                                      for detailItem in driver.find_elements_by_class_name('detail-item')\\\n",
    "                                                      if 'SUBJECTS' in detailItem.text][0]})\n",
    "        except:\n",
    "            issueToc.get(article).update({'keyWords': list()})\n",
    "    print('{}, {} articles, success at {}'.format(issue, \n",
    "                                                  str(len(issueToc)),\n",
    "                                                  datetime.datetime.utcnow().strftime('%y-%m-%d, %H%M%SZ')))\n",
    "\n",
    "    with io.open('../data/jrnlBizStrategies.json', 'w', encoding = 'utf-8') as f:\n",
    "        json.dump(volIssues, \n",
    "                  f, \n",
    "                  ensure_ascii = False, \n",
    "                  indent = 4)\n",
    "\n"
   ]
  },
  {
   "cell_type": "code",
   "execution_count": 14,
   "metadata": {},
   "outputs": [
    {
     "data": {
      "text/plain": [
       "0"
      ]
     },
     "execution_count": 14,
     "metadata": {},
     "output_type": "execute_result"
    }
   ],
   "source": [
    "article"
   ]
  },
  {
   "cell_type": "code",
   "execution_count": null,
   "metadata": {},
   "outputs": [],
   "source": []
  },
  {
   "cell_type": "code",
   "execution_count": null,
   "metadata": {},
   "outputs": [],
   "source": []
  },
  {
   "cell_type": "code",
   "execution_count": null,
   "metadata": {},
   "outputs": [],
   "source": []
  }
 ],
 "metadata": {
  "kernelspec": {
   "display_name": "Python 3",
   "language": "python",
   "name": "python3"
  },
  "language_info": {
   "codemirror_mode": {
    "name": "ipython",
    "version": 3
   },
   "file_extension": ".py",
   "mimetype": "text/x-python",
   "name": "python",
   "nbconvert_exporter": "python",
   "pygments_lexer": "ipython3",
   "version": "3.7.4"
  }
 },
 "nbformat": 4,
 "nbformat_minor": 4
}
